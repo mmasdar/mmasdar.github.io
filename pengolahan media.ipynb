{
 "cells": [
  {
   "cell_type": "code",
   "execution_count": 12,
   "metadata": {},
   "outputs": [
    {
     "name": "stdout",
     "output_type": "stream",
     "text": [
      "Initial Image Size:\n",
      "Width:  1939\n",
      "Height:  1963\n",
      "File size: 2.1649084091186523 MB\n",
      "Processed Image Size:\n",
      "Width:  1939\n",
      "Height:  1963\n",
      "File size: 1.7426261901855469 MB\n",
      "Image processing completed!\n"
     ]
    }
   ],
   "source": [
    "from PIL import Image\n",
    "import os\n",
    "\n",
    "# Function to process the input image\n",
    "def process_image(input_image_path, output_image_name):\n",
    "    # Set the output image path\n",
    "    output_image_path = f'{output_image_name}.png'\n",
    "\n",
    "    # Open the input image\n",
    "    image = Image.open(input_image_path)\n",
    "\n",
    "    file_size = os.path.getsize(input_image_path)\n",
    "    # Convert the file size to megabytes\n",
    "    file_size_mb = file_size / (1024 * 1024)\n",
    "\n",
    "    print(\"Initial Image Size:\")\n",
    "    print(\"Width: \", image.size[0])\n",
    "    print(\"Height: \", image.size[1])\n",
    "    print(\"File size: {} MB\".format(file_size_mb))\n",
    "\n",
    "    # Convert the image to RGB mode if it's in CMYK mode\n",
    "    if image.mode == 'CMYK':\n",
    "        image = image.convert('RGB')\n",
    "\n",
    "    # Save the processed image with compression\n",
    "    image.save(output_image_path, optimize=True, quality=80)\n",
    "\n",
    "    file_size = os.path.getsize(output_image_path)\n",
    "\n",
    "    # Convert the file size to megabytes\n",
    "    file_size_mb = file_size / (1024 * 1024)\n",
    "\n",
    "    print(\"Processed Image Size:\")\n",
    "    print(\"Width: \", image.size[0])\n",
    "    print(\"Height: \", image.size[1])\n",
    "    print(\"File size: {} MB\".format(file_size_mb))\n",
    "\n",
    "\n",
    "# Get the input image path\n",
    "input_image_path = input(\"Enter the path of the input image: \")\n",
    "\n",
    "# Get the output image name from user input\n",
    "output_image_name = input(\"Enter the name of the output image: \")\n",
    "\n",
    "# Process the input image\n",
    "process_image(input_image_path, output_image_name)\n",
    "\n",
    "print(\"Image processing completed!\")"
   ]
  },
  {
   "cell_type": "code",
   "execution_count": 7,
   "metadata": {},
   "outputs": [
    {
     "name": "stdout",
     "output_type": "stream",
     "text": [
      "Conversion successful! Converted PNG to TIFF: Figure 8. Results of sequential chest X-ray image segmentation of a 59-year-old female Covid-19 patient.tiff\n"
     ]
    }
   ],
   "source": [
    "from PIL import Image\n",
    "\n",
    "def convert_png_to_tiff(png_path, tiff_path):\n",
    "    try:\n",
    "        # Open the PNG image\n",
    "        png_image = Image.open(png_path)\n",
    "\n",
    "        # Convert the image to TIFF format\n",
    "        png_image.save(tiff_path, 'TIFF')\n",
    "\n",
    "        print(f\"Conversion successful! Converted PNG to TIFF: {tiff_path}\")\n",
    "    except Exception as e:\n",
    "        print(f\"An error occurred: {str(e)}\")\n",
    "\n",
    "# Example usage\n",
    "png_file_path = 'Figure 8. Results of sequential chest X-ray image segmentation of a 59-year-old female Covid-19 patient..png'\n",
    "tiff_file_path = 'Figure 8. Results of sequential chest X-ray image segmentation of a 59-year-old female Covid-19 patient.tiff'\n",
    "convert_png_to_tiff(png_file_path, tiff_file_path)\n"
   ]
  },
  {
   "attachments": {},
   "cell_type": "markdown",
   "metadata": {},
   "source": [
    "### Convert to png"
   ]
  },
  {
   "cell_type": "code",
   "execution_count": 5,
   "metadata": {},
   "outputs": [],
   "source": [
    "import os\n",
    "from PIL import Image\n",
    "\n",
    "def convert_images_to_png(folder_path):\n",
    "    # Iterate over all files in the folder\n",
    "    for filename in os.listdir(folder_path):\n",
    "        file_path = os.path.join(folder_path, filename)\n",
    "\n",
    "        # Check if the file is an image\n",
    "        if os.path.isfile(file_path) and any(filename.lower().endswith(ext) for ext in ['.webp', '.jpeg', '.jpg', '.bmp']):\n",
    "            # Open the image file\n",
    "            with Image.open(file_path) as img:\n",
    "                # Convert to PNG format\n",
    "                png_filename = os.path.splitext(filename)[0] + '.png'\n",
    "                png_file_path = os.path.join(folder_path, png_filename)\n",
    "                img.save(png_file_path, 'PNG')\n",
    "                \n",
    "            # Delete the original file\n",
    "            os.remove(file_path)\n",
    "\n",
    "# Usage example\n",
    "folder_path = r'img\\blog\\metastases'\n",
    "convert_images_to_png(folder_path)\n"
   ]
  }
 ],
 "metadata": {
  "kernelspec": {
   "display_name": "Python 3",
   "language": "python",
   "name": "python3"
  },
  "language_info": {
   "codemirror_mode": {
    "name": "ipython",
    "version": 3
   },
   "file_extension": ".py",
   "mimetype": "text/x-python",
   "name": "python",
   "nbconvert_exporter": "python",
   "pygments_lexer": "ipython3",
   "version": "3.6.8"
  },
  "orig_nbformat": 4
 },
 "nbformat": 4,
 "nbformat_minor": 2
}
